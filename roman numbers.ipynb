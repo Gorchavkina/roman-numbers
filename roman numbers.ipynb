{
 "cells": [
  {
   "cell_type": "code",
   "execution_count": 2,
   "metadata": {},
   "outputs": [],
   "source": [
    " mapping = {\"I\" : 1, \"V\" : 5, \"X\" : 10, \"L\" : 50, \"C\" : 100, \"D\" : 500, \"M\" : 1000}  "
   ]
  },
  {
   "cell_type": "code",
   "execution_count": 41,
   "metadata": {},
   "outputs": [
    {
     "name": "stdout",
     "output_type": "stream",
     "text": [
      "19\n"
     ]
    }
   ],
   "source": [
    "def to_decimal(rom):\n",
    "    for k, v in mapping.items():\n",
    "        m = mapping[rom[-1]] #счетчик на начальном этапе равен конечному элементу\n",
    "        for i in range(-1, -len(rom),-1):\n",
    "                if mapping[rom[i-1]] >= mapping[rom[i]]: \n",
    "                    m += mapping[rom[i-1]]\n",
    "                else:\n",
    "                    m -= mapping[rom[i-1]]\n",
    "    return m\n",
    "print(to_decimal(\"XIX\")) "
   ]
  },
  {
   "cell_type": "code",
   "execution_count": 39,
   "metadata": {},
   "outputs": [
    {
     "data": {
      "text/plain": [
       "'MDCDLI'"
      ]
     },
     "execution_count": 39,
     "metadata": {},
     "output_type": "execute_result"
    }
   ],
   "source": [
    "def to_roman(d):\n",
    "    ans = \"\"\n",
    "    val = []\n",
    "    if d < 0:\n",
    "        print(\"Введите неотрицательное значение\")\n",
    "    elif d == 0:\n",
    "        print(\"nulla\")\n",
    "    else:\n",
    "        for k, v in mapping.items():\n",
    "                val.append([k,v]) #записываем данные словаря в список\n",
    "        for i in range(-1,-len(val)+1,-1): #проверяем условие для значений до 10 включительно\n",
    "            if d // val[i][1] > 0 and d//val[i][1] != 4: #кол-во одинаковых символов не должно >= 4\n",
    "                ans += val[i][0]*(d//val[i][1])\n",
    "                d = d%val[i][1]\n",
    "            elif d//val[i][1] == 4:\n",
    "                ans += val[i][0] + val[i+1][0]\n",
    "                d = d%val[i][1]\n",
    "        if d == 9:\n",
    "            ans += val[-len(val)][0] + val[-len(val)+2][0]\n",
    "        elif d == 8:\n",
    "            ans += val[-len(val)+1][0] + val[-len(val)][0]*3\n",
    "        elif d == 7:\n",
    "            ans += val[-len(val)+1][0] + val[-len(val)][0]*2\n",
    "        elif d == 6:\n",
    "            ans += val[-len(val)+1][0] + val[-len(val)][0]\n",
    "        elif d == 5:\n",
    "            ans += val[-len(val)+1][0]\n",
    "        elif d == 4:\n",
    "            ans += val[-len(val)][0] + val[-len(val)+1][0]\n",
    "        elif d == 3:\n",
    "            ans += val[-len(val)][0]*3\n",
    "        elif d == 2:\n",
    "            ans += val[-len(val)][0]*2\n",
    "        elif d == 1:\n",
    "            ans += val[-len(val)][0]          \n",
    "    return ans\n",
    "to_roman(1951)"
   ]
  },
  {
   "cell_type": "code",
   "execution_count": null,
   "metadata": {},
   "outputs": [],
   "source": []
  },
  {
   "cell_type": "code",
   "execution_count": null,
   "metadata": {},
   "outputs": [],
   "source": []
  },
  {
   "cell_type": "code",
   "execution_count": null,
   "metadata": {},
   "outputs": [],
   "source": []
  }
 ],
 "metadata": {
  "kernelspec": {
   "display_name": "Python 3",
   "language": "python",
   "name": "python3"
  },
  "language_info": {
   "codemirror_mode": {
    "name": "ipython",
    "version": 3
   },
   "file_extension": ".py",
   "mimetype": "text/x-python",
   "name": "python",
   "nbconvert_exporter": "python",
   "pygments_lexer": "ipython3",
   "version": "3.6.5"
  }
 },
 "nbformat": 4,
 "nbformat_minor": 2
}
